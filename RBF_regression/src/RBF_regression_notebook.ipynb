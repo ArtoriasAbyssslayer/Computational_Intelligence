{
  "cells": [
    {
      "cell_type": "markdown",
      "metadata": {
        "id": "AkKXnluKOGez"
      },
      "source": [
        "# RBF Regression on Boston hosting Dataset\n",
        "### Charis Filis\n",
        "### Academic-id : 9449 "
      ]
    },
    {
      "cell_type": "markdown",
      "metadata": {
        "id": "kEmTuzkdOGe1"
      },
      "source": [
        "Add needed dependencies"
      ]
    },
    {
      "cell_type": "code",
      "execution_count": 70,
      "metadata": {
        "colab": {
          "base_uri": "https://localhost:8080/"
        },
        "id": "FFlApqUlOL0Q",
        "outputId": "09bbe7aa-f0e5-46f1-d3fb-629b677920f4"
      },
      "outputs": [
        {
          "name": "stdout",
          "output_type": "stream",
          "text": [
            "Requirement already satisfied: tensorflow-addons in c:\\users\\harry\\anaconda3\\lib\\site-packages (0.18.0)\n",
            "Requirement already satisfied: packaging in c:\\users\\harry\\anaconda3\\lib\\site-packages (from tensorflow-addons) (21.3)\n",
            "Requirement already satisfied: typeguard>=2.7 in c:\\users\\harry\\anaconda3\\lib\\site-packages (from tensorflow-addons) (2.13.3)\n",
            "Requirement already satisfied: pyparsing!=3.0.5,>=2.0.2 in c:\\users\\harry\\anaconda3\\lib\\site-packages (from packaging->tensorflow-addons) (3.0.4)\n",
            "Note: you may need to restart the kernel to use updated packages.\n"
          ]
        }
      ],
      "source": [
        "pip install tensorflow-addons"
      ]
    },
    {
      "cell_type": "code",
      "execution_count": 71,
      "metadata": {
        "id": "2Zk7DRcROGe1"
      },
      "outputs": [],
      "source": [
        "import tensorflow as tf\n",
        "# Import  tensorflow.keras basic NNet modules for the RBF output layer\n",
        "from tensorflow.keras import layers,models\n",
        "from tensorflow.keras import initializers\n",
        "# Import tensorflow.keras backend for any tensor operations\n",
        "from tensorflow.keras import backend as K\n",
        "\n",
        "from tensorflow.keras.datasets import boston_housing\n",
        "# Images, plots, display, and visualization\n",
        "import matplotlib.pyplot as plt\n",
        "import pandas as pd\n",
        "import seaborn as sns\n",
        "# import addons for RSqure metric\n",
        "import tensorflow_addons as tfa\n",
        "from tensorflow.keras.metrics import RootMeanSquaredError\n",
        "# Import pairwise metric \n",
        "from sklearn.metrics import pairwise\n",
        "# Import KMeans algorithm in case the custom one does not work properly\n",
        "from sklearn.cluster import KMeans\n",
        "# Import numpy for array and numeric operations\n",
        "import numpy as np"
      ]
    },
    {
      "cell_type": "code",
      "execution_count": 72,
      "metadata": {
        "colab": {
          "base_uri": "https://localhost:8080/"
        },
        "id": "al_aXBSgOGe3",
        "outputId": "b736d930-72ae-4db0-89d3-2cc7d375aa34"
      },
      "outputs": [
        {
          "name": "stdout",
          "output_type": "stream",
          "text": [
            "[2.1770e-02 8.2500e+01 2.0300e+00 0.0000e+00 4.1500e-01 7.6100e+00\n",
            " 1.5700e+01 6.2700e+00 2.0000e+00 3.4800e+02 1.4700e+01 3.9538e+02\n",
            " 3.1100e+00] 42.3\n",
            "Number of original training examples: 379\n",
            "Number of original test examples: 127\n",
            "Training data shape: (379, 13)\n",
            "Training y train shape (379,)\n",
            "Testing data shape: (127, 13)\n"
          ]
        }
      ],
      "source": [
        "(x_train, y_train),(x_test, y_test) = boston_housing.load_data(test_split=0.25)\n",
        "\n",
        "\n",
        "#Convert to float32\n",
        "x_train, x_test = np.array(x_train, dtype=np.float32), np.array(x_test, dtype=np.float32)\n",
        "print(x_train[1], y_train[1])\n",
        "# get per-feature statistics (mean,standard deviation ) from the training set in order to make normalization\n",
        "train_mean = np.mean(x_train, axis=0)\n",
        "train_std = np.std(x_train,axis=0)\n",
        "x_train = (x_train-train_mean)/train_std\n",
        "print(\"Number of original training examples:\", len(x_train))\n",
        "print(\"Number of original test examples:\", len(x_test))\n",
        "print(\"Training data shape:\",x_train.shape)\n",
        "print(\"Training y train shape\", y_train.shape)\n",
        "print(\"Testing data shape:\",x_test.shape)\n"
      ]
    },
    {
      "cell_type": "markdown",
      "metadata": {
        "id": "XwpvKoQOOGe4"
      },
      "source": [
        "R squared metric custom made "
      ]
    },
    {
      "cell_type": "code",
      "execution_count": 104,
      "metadata": {
        "id": "WfziYQggOGe5"
      },
      "outputs": [],
      "source": [
        "def R2(test_val, pred_val):\n",
        "    SS_res = K.sum(K.square(test_val-pred_val))\n",
        "    SS_tot = K.sum(K.square(test_val-K.mean(test_val)))\n",
        "    return (1 - SS_res/(SS_tot+K.epsilon()))"
      ]
    },
    {
      "cell_type": "markdown",
      "metadata": {
        "id": "1KGtGV17OGe6"
      },
      "source": [
        "Model 1 compute centers and sigma and Number of Kernels = 0.1 Ntrain"
      ]
    },
    {
      "cell_type": "code",
      "execution_count": 137,
      "metadata": {
        "colab": {
          "base_uri": "https://localhost:8080/"
        },
        "id": "hIS_oG3tOGe6",
        "outputId": "f7142312-a494-41d7-a0fc-88d390735f0b"
      },
      "outputs": [
        {
          "name": "stdout",
          "output_type": "stream",
          "text": [
            "37\n",
            "tf.Tensor(1.3053014, shape=(), dtype=float32)\n"
          ]
        }
      ],
      "source": [
        "from scipy.spatial.distance import pdist\n",
        "# Variance of each kernel\n",
        "from cmath import sqrt\n",
        "# num of kernels in hidden layer = number of inputs = number of nodes of  RBF layer\n",
        "n_centers = int(0.1*x_train.shape[0])\n",
        "print(n_centers)\n",
        "def computeSigma(n_centers):\n",
        "        km = KMeans(n_clusters=n_centers, init='random', verbose=0).fit(x_train)\n",
        "        centers = km.cluster_centers_\n",
        "        dists = pdist(centers, metric='euclidean')\n",
        "        d_max = np.amax(dists)\n",
        "        sigma = d_max / tf.math.sqrt(2*float(centers.shape[0])) \n",
        "        return sigma\n",
        "   \n",
        "sigma = computeSigma(n_centers)\n",
        "print(sigma)"
      ]
    },
    {
      "cell_type": "code",
      "execution_count": 126,
      "metadata": {
        "id": "CF-9GYf8OGe7"
      },
      "outputs": [],
      "source": [
        "from keras.initializers import Initializer\n",
        "from sklearn.cluster import KMeans\n",
        "\n",
        "\n",
        "class InitCentersKMeans(Initializer):\n",
        "    \"\"\" Initializer for initialization of centers of RBF network\n",
        "        by clustering the given data set.\n",
        "    # Arguments\n",
        "        X: matrix, dataset\n",
        "    \"\"\"\n",
        "\n",
        "    def __init__(self, X, max_iter=100):\n",
        "        self.X = X\n",
        "        self.max_iter = max_iter\n",
        "\n",
        "    def __call__(self, shape, dtype=None):\n",
        "        assert shape[1] == self.X.shape[1]\n",
        "\n",
        "        n_centers = shape[0]\n",
        "        km = KMeans(n_clusters=n_centers, max_iter=self.max_iter, verbose=0)\n",
        "        km.fit(self.X)\n",
        "        return km.cluster_centers_\n",
        "        "
      ]
    },
    {
      "cell_type": "markdown",
      "metadata": {
        "id": "unHThCvuOGe8"
      },
      "source": [
        "Create RBF layer or RBF kernel would be described"
      ]
    },
    {
      "cell_type": "code",
      "execution_count": 139,
      "metadata": {
        "id": "IaSBpCHaOGe9"
      },
      "outputs": [],
      "source": [
        "from tensorflow.keras.layers import Layer\n",
        "from keras import backend as K\n",
        "from keras.initializers import RandomNormal, Initializer, Constant\n",
        "import numpy as np\n",
        "\n",
        "class RBFLayer(Layer):\n",
        "    \"\"\"\n",
        "        RBF Layer applying Gaussian Kernel\n",
        "        # Arguments\n",
        "        units := number of neurons\n",
        "        initializer := weight or centroid initializer for each neuron Kmean is used\n",
        "        b := thresholds of output layer\n",
        "    \"\"\"\n",
        "    def __init__(self,units,sigmaInit,initializer=None,b=1.0,**kwargs):\n",
        "        self.init_betas = b\n",
        "        self.units = units\n",
        "        self.sigmaInit = sigmaInit\n",
        "        if not initializer:\n",
        "            self.initializer = RandomNormal(mean = 0)\n",
        "        else:\n",
        "            self.initializer = initializer\n",
        "        super(RBFLayer, self).__init__(**kwargs)\n",
        "    def build(self, input_shape):\n",
        "        # I initialize the weights of rbf layer with kmeans \n",
        "        self.W = self.add_weight(name='W',\n",
        "                                 shape=(self.units,input_shape[1]),\n",
        "                                 initializer=self.initializer,\n",
        "                                 trainable=True)\n",
        "        self.b  = self.add_weight(shape=(self.units,),\n",
        "                            initializer=Constant(value=self.init_betas),\n",
        "                            trainable=True)\n",
        "\n",
        "        super(RBFLayer,self).build(input_shape)\n",
        "    \n",
        "    # radial basis function\n",
        "    def call(self, inputs):\n",
        "        diff = K.expand_dims(self.W) \n",
        "        H = K.transpose(diff - K.transpose(inputs)) \n",
        "        # take L2 norm for the exponent of the radial basis function\n",
        "        l2 = K.sum(K.pow(H,2), axis=1)\n",
        "        res = K.exp((-self.b * l2)/(2*(self.sigmaInit**2)))     \n",
        "        return res\n",
        "\n",
        "    def compute_output_shape(self, input_shape):\n",
        "        return ( self.units,input_shape[0])\n",
        "    \n",
        "    # define get_config function to use model_from_jason\n",
        "    def get_config(self):\n",
        "        # have to define get_config to be able to use model_from_json\n",
        "        config = {\n",
        "            'units': self.units\n",
        "        }\n",
        "        base_config = super(RBFLayer, self).get_config()\n",
        "        return dict(list(base_config.items()) + list(config.items()))\n",
        "                                 \n",
        "        \n",
        "    \n",
        "    "
      ]
    },
    {
      "cell_type": "code",
      "execution_count": null,
      "metadata": {},
      "outputs": [],
      "source": [
        "# RBF layer optimiztion run afterwards\n",
        "def mean_square(y_pred, y_true):\n",
        "    return tf.reduce_mean(tf.square(y_pred - y_true))\n",
        "def run_optimization(rbf_layer):\n",
        "    # Wrap computation inside a GradientTape for automatic differentiation.\n",
        "    with tf.GradientTape() as g:\n",
        "        loss = mean_square(model_out.predict(x_train), y_train)\n",
        "        # Compute gradients.\n",
        "        gradients = g.gradient(loss, [rbf_layer.W, rbf_layer.b])\n",
        "        # Update W and b following gradients.\n",
        "        optimizer.apply_gradients(zip(gradients, [rbf_layer.W, rbf_layer.b]))\n",
        "run_optimization(rbf_layer=rbf_layer)"
      ]
    },
    {
      "cell_type": "markdown",
      "metadata": {
        "id": "V1lFj3PxOGe-"
      },
      "source": [
        "### Create 1st model builder function"
      ]
    },
    {
      "cell_type": "markdown",
      "metadata": {
        "id": "-W5rKOmOOGe-"
      },
      "source": [
        "Train output layer"
      ]
    },
    {
      "cell_type": "code",
      "execution_count": 141,
      "metadata": {
        "colab": {
          "base_uri": "https://localhost:8080/"
        },
        "id": "9OnM4F6IOGe_",
        "outputId": "9bb6ef9c-0628-4c12-e4f1-a908107ccc89"
      },
      "outputs": [
        {
          "name": "stdout",
          "output_type": "stream",
          "text": [
            "Model: \"sequential_57\"\n",
            "_________________________________________________________________\n",
            " Layer (type)                Output Shape              Param #   \n",
            "=================================================================\n",
            " rbf_layer_53 (RBFLayer)     (None, 37)                518       \n",
            "                                                                 \n",
            " dense_58 (Dense)            (None, 128)               4864      \n",
            "                                                                 \n",
            " dense_59 (Dense)            (None, 1)                 129       \n",
            "                                                                 \n",
            "=================================================================\n",
            "Total params: 5,511\n",
            "Trainable params: 5,511\n",
            "Non-trainable params: 0\n",
            "_________________________________________________________________\n",
            "Epoch 1/100\n",
            "7/7 [==============================] - 1s 34ms/step - loss: 532.3644 - root_mean_squared_error: 23.0730 - R2: -10.5749 - val_loss: 695.2817 - val_root_mean_squared_error: 26.3682 - val_R2: -6.0545\n",
            "Epoch 2/100\n",
            "7/7 [==============================] - 0s 5ms/step - loss: 434.3736 - root_mean_squared_error: 20.8416 - R2: -4.9960 - val_loss: 541.7159 - val_root_mean_squared_error: 23.2748 - val_R2: -4.3849\n",
            "Epoch 3/100\n",
            "7/7 [==============================] - 0s 5ms/step - loss: 305.3400 - root_mean_squared_error: 17.4740 - R2: -3.0465 - val_loss: 391.5504 - val_root_mean_squared_error: 19.7876 - val_R2: -2.7581\n",
            "Epoch 4/100\n",
            "7/7 [==============================] - 0s 5ms/step - loss: 195.1027 - root_mean_squared_error: 13.9679 - R2: -1.5199 - val_loss: 279.4072 - val_root_mean_squared_error: 16.7155 - val_R2: -1.5588\n",
            "Epoch 5/100\n",
            "7/7 [==============================] - 0s 5ms/step - loss: 126.8330 - root_mean_squared_error: 11.2620 - R2: -0.6768 - val_loss: 214.8530 - val_root_mean_squared_error: 14.6579 - val_R2: -0.8862\n",
            "Epoch 6/100\n",
            "7/7 [==============================] - 0s 5ms/step - loss: 94.6837 - root_mean_squared_error: 9.7306 - R2: -0.2305 - val_loss: 182.1445 - val_root_mean_squared_error: 13.4961 - val_R2: -0.5723\n",
            "Epoch 7/100\n",
            "7/7 [==============================] - 0s 5ms/step - loss: 79.7078 - root_mean_squared_error: 8.9279 - R2: -0.0039 - val_loss: 161.5547 - val_root_mean_squared_error: 12.7104 - val_R2: -0.3950\n",
            "Epoch 8/100\n",
            "7/7 [==============================] - 0s 6ms/step - loss: 75.5370 - root_mean_squared_error: 8.6912 - R2: 0.0554 - val_loss: 176.0260 - val_root_mean_squared_error: 13.2675 - val_R2: -0.5181\n",
            "Epoch 9/100\n",
            "7/7 [==============================] - 0s 5ms/step - loss: 75.7668 - root_mean_squared_error: 8.7044 - R2: 0.0154 - val_loss: 128.2702 - val_root_mean_squared_error: 11.3256 - val_R2: -0.1090\n",
            "Epoch 10/100\n",
            "7/7 [==============================] - 0s 5ms/step - loss: 87.7793 - root_mean_squared_error: 9.3691 - R2: -0.1490 - val_loss: 171.3511 - val_root_mean_squared_error: 13.0901 - val_R2: -0.4831\n",
            "Epoch 11/100\n",
            "7/7 [==============================] - 0s 5ms/step - loss: 77.1618 - root_mean_squared_error: 8.7842 - R2: 0.0329 - val_loss: 162.7578 - val_root_mean_squared_error: 12.7577 - val_R2: -0.4044\n",
            "Epoch 12/100\n",
            "7/7 [==============================] - 0s 5ms/step - loss: 73.8230 - root_mean_squared_error: 8.5920 - R2: 0.0710 - val_loss: 153.7003 - val_root_mean_squared_error: 12.3976 - val_R2: -0.3241\n",
            "Epoch 13/100\n",
            "7/7 [==============================] - 0s 5ms/step - loss: 70.9411 - root_mean_squared_error: 8.4227 - R2: 0.0878 - val_loss: 150.4953 - val_root_mean_squared_error: 12.2677 - val_R2: -0.2963\n",
            "Epoch 14/100\n",
            "7/7 [==============================] - 0s 5ms/step - loss: 69.0534 - root_mean_squared_error: 8.3098 - R2: 0.1299 - val_loss: 146.6279 - val_root_mean_squared_error: 12.1090 - val_R2: -0.2635\n",
            "Epoch 15/100\n",
            "7/7 [==============================] - 0s 5ms/step - loss: 67.1172 - root_mean_squared_error: 8.1925 - R2: 0.1409 - val_loss: 142.9369 - val_root_mean_squared_error: 11.9556 - val_R2: -0.2318\n",
            "Epoch 16/100\n",
            "7/7 [==============================] - 0s 5ms/step - loss: 65.1909 - root_mean_squared_error: 8.0741 - R2: 0.1296 - val_loss: 140.2078 - val_root_mean_squared_error: 11.8409 - val_R2: -0.2086\n",
            "Epoch 17/100\n",
            "7/7 [==============================] - 0s 5ms/step - loss: 63.6040 - root_mean_squared_error: 7.9752 - R2: 0.1838 - val_loss: 136.4907 - val_root_mean_squared_error: 11.6829 - val_R2: -0.1778\n",
            "Epoch 18/100\n",
            "7/7 [==============================] - 0s 5ms/step - loss: 62.1133 - root_mean_squared_error: 7.8812 - R2: 0.2378 - val_loss: 134.7252 - val_root_mean_squared_error: 11.6071 - val_R2: -0.1628\n",
            "Epoch 19/100\n",
            "7/7 [==============================] - 0s 5ms/step - loss: 60.7129 - root_mean_squared_error: 7.7918 - R2: 0.2514 - val_loss: 133.4642 - val_root_mean_squared_error: 11.5527 - val_R2: -0.1520\n",
            "Epoch 20/100\n",
            "7/7 [==============================] - 0s 5ms/step - loss: 59.4416 - root_mean_squared_error: 7.7098 - R2: 0.2545 - val_loss: 131.9314 - val_root_mean_squared_error: 11.4861 - val_R2: -0.1391\n",
            "Epoch 21/100\n",
            "7/7 [==============================] - 0s 5ms/step - loss: 58.4792 - root_mean_squared_error: 7.6472 - R2: 0.2295 - val_loss: 128.8173 - val_root_mean_squared_error: 11.3498 - val_R2: -0.1129\n",
            "Epoch 22/100\n",
            "7/7 [==============================] - 0s 5ms/step - loss: 56.9790 - root_mean_squared_error: 7.5484 - R2: 0.2654 - val_loss: 128.1702 - val_root_mean_squared_error: 11.3212 - val_R2: -0.1075\n",
            "Epoch 23/100\n",
            "7/7 [==============================] - 0s 5ms/step - loss: 55.9546 - root_mean_squared_error: 7.4803 - R2: 0.2508 - val_loss: 125.9158 - val_root_mean_squared_error: 11.2212 - val_R2: -0.0885\n",
            "Epoch 24/100\n",
            "7/7 [==============================] - 0s 5ms/step - loss: 54.9240 - root_mean_squared_error: 7.4111 - R2: 0.2611 - val_loss: 121.4165 - val_root_mean_squared_error: 11.0189 - val_R2: -0.0514\n",
            "Epoch 25/100\n",
            "7/7 [==============================] - 0s 5ms/step - loss: 53.6155 - root_mean_squared_error: 7.3223 - R2: 0.3235 - val_loss: 119.5184 - val_root_mean_squared_error: 10.9324 - val_R2: -0.0357\n",
            "Epoch 26/100\n",
            "7/7 [==============================] - 0s 5ms/step - loss: 52.4563 - root_mean_squared_error: 7.2427 - R2: 0.3589 - val_loss: 118.4681 - val_root_mean_squared_error: 10.8843 - val_R2: -0.0269\n",
            "Epoch 27/100\n",
            "7/7 [==============================] - 0s 5ms/step - loss: 51.5070 - root_mean_squared_error: 7.1768 - R2: 0.3423 - val_loss: 115.5821 - val_root_mean_squared_error: 10.7509 - val_R2: -0.0038\n",
            "Epoch 28/100\n",
            "7/7 [==============================] - 0s 5ms/step - loss: 50.4204 - root_mean_squared_error: 7.1007 - R2: 0.3603 - val_loss: 113.4062 - val_root_mean_squared_error: 10.6492 - val_R2: 0.0133\n",
            "Epoch 29/100\n",
            "7/7 [==============================] - 0s 6ms/step - loss: 49.4648 - root_mean_squared_error: 7.0331 - R2: 0.3451 - val_loss: 112.2279 - val_root_mean_squared_error: 10.5938 - val_R2: 0.0233\n",
            "Epoch 30/100\n",
            "7/7 [==============================] - 0s 5ms/step - loss: 48.5211 - root_mean_squared_error: 6.9657 - R2: 0.3458 - val_loss: 110.0920 - val_root_mean_squared_error: 10.4925 - val_R2: 0.0406\n",
            "Epoch 31/100\n",
            "7/7 [==============================] - 0s 5ms/step - loss: 47.6979 - root_mean_squared_error: 6.9064 - R2: 0.4152 - val_loss: 109.4738 - val_root_mean_squared_error: 10.4630 - val_R2: 0.0462\n",
            "Epoch 32/100\n",
            "7/7 [==============================] - 0s 5ms/step - loss: 46.8531 - root_mean_squared_error: 6.8449 - R2: 0.3472 - val_loss: 109.2307 - val_root_mean_squared_error: 10.4513 - val_R2: 0.0488\n",
            "Epoch 33/100\n",
            "7/7 [==============================] - 0s 5ms/step - loss: 46.2433 - root_mean_squared_error: 6.8002 - R2: 0.4542 - val_loss: 107.8011 - val_root_mean_squared_error: 10.3827 - val_R2: 0.0601\n",
            "Epoch 34/100\n",
            "7/7 [==============================] - 0s 6ms/step - loss: 45.2740 - root_mean_squared_error: 6.7286 - R2: 0.4017 - val_loss: 105.4725 - val_root_mean_squared_error: 10.2700 - val_R2: 0.0782\n",
            "Epoch 35/100\n",
            "7/7 [==============================] - 0s 5ms/step - loss: 44.3428 - root_mean_squared_error: 6.6590 - R2: 0.4502 - val_loss: 104.9224 - val_root_mean_squared_error: 10.2432 - val_R2: 0.0830\n",
            "Epoch 36/100\n",
            "7/7 [==============================] - 0s 6ms/step - loss: 43.5809 - root_mean_squared_error: 6.6016 - R2: 0.4322 - val_loss: 100.7935 - val_root_mean_squared_error: 10.0396 - val_R2: 0.1142\n",
            "Epoch 37/100\n",
            "7/7 [==============================] - 0s 5ms/step - loss: 42.6790 - root_mean_squared_error: 6.5329 - R2: 0.4826 - val_loss: 100.1478 - val_root_mean_squared_error: 10.0074 - val_R2: 0.1192\n",
            "Epoch 38/100\n",
            "7/7 [==============================] - 0s 5ms/step - loss: 41.6832 - root_mean_squared_error: 6.4563 - R2: 0.4418 - val_loss: 94.7526 - val_root_mean_squared_error: 9.7341 - val_R2: 0.1523\n",
            "Epoch 39/100\n",
            "7/7 [==============================] - 0s 5ms/step - loss: 40.6782 - root_mean_squared_error: 6.3779 - R2: 0.4786 - val_loss: 96.5928 - val_root_mean_squared_error: 9.8282 - val_R2: 0.1461\n",
            "Epoch 40/100\n",
            "7/7 [==============================] - 0s 5ms/step - loss: 39.6669 - root_mean_squared_error: 6.2982 - R2: 0.4633 - val_loss: 91.9447 - val_root_mean_squared_error: 9.5888 - val_R2: 0.1792\n",
            "Epoch 41/100\n",
            "7/7 [==============================] - 0s 5ms/step - loss: 38.6670 - root_mean_squared_error: 6.2183 - R2: 0.5208 - val_loss: 93.1369 - val_root_mean_squared_error: 9.6507 - val_R2: 0.1722\n",
            "Epoch 42/100\n",
            "7/7 [==============================] - 0s 5ms/step - loss: 38.1128 - root_mean_squared_error: 6.1736 - R2: 0.4710 - val_loss: 92.4297 - val_root_mean_squared_error: 9.6140 - val_R2: 0.1783\n",
            "Epoch 43/100\n",
            "7/7 [==============================] - 0s 5ms/step - loss: 37.2626 - root_mean_squared_error: 6.1043 - R2: 0.5071 - val_loss: 88.5510 - val_root_mean_squared_error: 9.4102 - val_R2: 0.2078\n",
            "Epoch 44/100\n",
            "7/7 [==============================] - 0s 5ms/step - loss: 36.8394 - root_mean_squared_error: 6.0695 - R2: 0.4931 - val_loss: 93.3006 - val_root_mean_squared_error: 9.6592 - val_R2: 0.1721\n",
            "Epoch 45/100\n",
            "7/7 [==============================] - 0s 5ms/step - loss: 36.3453 - root_mean_squared_error: 6.0287 - R2: 0.5274 - val_loss: 86.7567 - val_root_mean_squared_error: 9.3143 - val_R2: 0.2215\n",
            "Epoch 46/100\n",
            "7/7 [==============================] - 0s 5ms/step - loss: 36.1462 - root_mean_squared_error: 6.0122 - R2: 0.5007 - val_loss: 84.8104 - val_root_mean_squared_error: 9.2093 - val_R2: 0.2346\n",
            "Epoch 47/100\n",
            "7/7 [==============================] - 0s 5ms/step - loss: 35.0798 - root_mean_squared_error: 5.9228 - R2: 0.5523 - val_loss: 81.5350 - val_root_mean_squared_error: 9.0297 - val_R2: 0.2586\n",
            "Epoch 48/100\n",
            "7/7 [==============================] - 0s 5ms/step - loss: 34.9183 - root_mean_squared_error: 5.9092 - R2: 0.5047 - val_loss: 82.4577 - val_root_mean_squared_error: 9.0806 - val_R2: 0.2543\n",
            "Epoch 49/100\n",
            "7/7 [==============================] - 0s 5ms/step - loss: 37.2014 - root_mean_squared_error: 6.0993 - R2: 0.5228 - val_loss: 88.6821 - val_root_mean_squared_error: 9.4171 - val_R2: 0.2076\n",
            "Epoch 50/100\n",
            "7/7 [==============================] - 0s 5ms/step - loss: 34.6625 - root_mean_squared_error: 5.8875 - R2: 0.5741 - val_loss: 85.7465 - val_root_mean_squared_error: 9.2599 - val_R2: 0.2254\n",
            "Epoch 51/100\n",
            "7/7 [==============================] - 0s 6ms/step - loss: 33.7733 - root_mean_squared_error: 5.8115 - R2: 0.5797 - val_loss: 88.1610 - val_root_mean_squared_error: 9.3894 - val_R2: 0.2125\n",
            "Epoch 52/100\n",
            "7/7 [==============================] - 0s 6ms/step - loss: 33.2692 - root_mean_squared_error: 5.7679 - R2: 0.5814 - val_loss: 84.8501 - val_root_mean_squared_error: 9.2114 - val_R2: 0.2338\n",
            "Epoch 53/100\n",
            "7/7 [==============================] - 0s 5ms/step - loss: 32.6568 - root_mean_squared_error: 5.7146 - R2: 0.5705 - val_loss: 81.0168 - val_root_mean_squared_error: 9.0009 - val_R2: 0.2533\n",
            "Epoch 54/100\n",
            "7/7 [==============================] - 0s 5ms/step - loss: 32.1150 - root_mean_squared_error: 5.6670 - R2: 0.5962 - val_loss: 82.5678 - val_root_mean_squared_error: 9.0867 - val_R2: 0.2517\n",
            "Epoch 55/100\n",
            "7/7 [==============================] - 0s 5ms/step - loss: 31.7660 - root_mean_squared_error: 5.6361 - R2: 0.6161 - val_loss: 82.3892 - val_root_mean_squared_error: 9.0769 - val_R2: 0.2537\n",
            "Epoch 56/100\n",
            "7/7 [==============================] - 0s 5ms/step - loss: 31.0175 - root_mean_squared_error: 5.5693 - R2: 0.5659 - val_loss: 81.7062 - val_root_mean_squared_error: 9.0391 - val_R2: 0.2598\n",
            "Epoch 57/100\n",
            "7/7 [==============================] - 0s 5ms/step - loss: 30.4006 - root_mean_squared_error: 5.5137 - R2: 0.6127 - val_loss: 83.8701 - val_root_mean_squared_error: 9.1581 - val_R2: 0.2440\n",
            "Epoch 58/100\n",
            "7/7 [==============================] - 0s 5ms/step - loss: 30.4608 - root_mean_squared_error: 5.5191 - R2: 0.6139 - val_loss: 81.7483 - val_root_mean_squared_error: 9.0415 - val_R2: 0.2593\n",
            "Epoch 59/100\n",
            "7/7 [==============================] - 0s 5ms/step - loss: 29.9897 - root_mean_squared_error: 5.4763 - R2: 0.6236 - val_loss: 79.4563 - val_root_mean_squared_error: 8.9138 - val_R2: 0.2755\n",
            "Epoch 60/100\n",
            "7/7 [==============================] - 0s 5ms/step - loss: 29.6767 - root_mean_squared_error: 5.4476 - R2: 0.5847 - val_loss: 77.0570 - val_root_mean_squared_error: 8.7782 - val_R2: 0.2929\n",
            "Epoch 61/100\n",
            "7/7 [==============================] - 0s 5ms/step - loss: 28.9772 - root_mean_squared_error: 5.3830 - R2: 0.6520 - val_loss: 76.0867 - val_root_mean_squared_error: 8.7228 - val_R2: 0.2984\n",
            "Epoch 62/100\n",
            "7/7 [==============================] - 0s 5ms/step - loss: 28.8686 - root_mean_squared_error: 5.3730 - R2: 0.6097 - val_loss: 73.3191 - val_root_mean_squared_error: 8.5627 - val_R2: 0.3189\n",
            "Epoch 63/100\n",
            "7/7 [==============================] - 0s 5ms/step - loss: 28.3565 - root_mean_squared_error: 5.3251 - R2: 0.6135 - val_loss: 72.2490 - val_root_mean_squared_error: 8.4999 - val_R2: 0.2843\n",
            "Epoch 64/100\n",
            "7/7 [==============================] - 0s 5ms/step - loss: 32.6366 - root_mean_squared_error: 5.7128 - R2: 0.5539 - val_loss: 77.5066 - val_root_mean_squared_error: 8.8038 - val_R2: 0.2900\n",
            "Epoch 65/100\n",
            "7/7 [==============================] - 0s 6ms/step - loss: 29.1134 - root_mean_squared_error: 5.3957 - R2: 0.6148 - val_loss: 78.0330 - val_root_mean_squared_error: 8.8336 - val_R2: 0.2877\n",
            "Epoch 66/100\n",
            "7/7 [==============================] - 0s 5ms/step - loss: 28.2168 - root_mean_squared_error: 5.3119 - R2: 0.6044 - val_loss: 73.5316 - val_root_mean_squared_error: 8.5751 - val_R2: 0.3104\n",
            "Epoch 67/100\n",
            "7/7 [==============================] - 0s 5ms/step - loss: 27.5084 - root_mean_squared_error: 5.2448 - R2: 0.6420 - val_loss: 74.5657 - val_root_mean_squared_error: 8.6351 - val_R2: 0.3109\n",
            "Epoch 68/100\n",
            "7/7 [==============================] - 0s 5ms/step - loss: 27.7025 - root_mean_squared_error: 5.2633 - R2: 0.6581 - val_loss: 76.2387 - val_root_mean_squared_error: 8.7315 - val_R2: 0.3023\n",
            "Epoch 69/100\n",
            "7/7 [==============================] - 0s 5ms/step - loss: 27.1057 - root_mean_squared_error: 5.2063 - R2: 0.6695 - val_loss: 76.9508 - val_root_mean_squared_error: 8.7722 - val_R2: 0.2977\n",
            "Epoch 70/100\n",
            "7/7 [==============================] - 0s 5ms/step - loss: 26.8538 - root_mean_squared_error: 5.1821 - R2: 0.6709 - val_loss: 69.7162 - val_root_mean_squared_error: 8.3496 - val_R2: 0.3363\n",
            "Epoch 71/100\n",
            "7/7 [==============================] - 0s 5ms/step - loss: 26.4658 - root_mean_squared_error: 5.1445 - R2: 0.6845 - val_loss: 74.2266 - val_root_mean_squared_error: 8.6155 - val_R2: 0.3174\n",
            "Epoch 72/100\n",
            "7/7 [==============================] - 0s 5ms/step - loss: 25.8245 - root_mean_squared_error: 5.0818 - R2: 0.6581 - val_loss: 67.5076 - val_root_mean_squared_error: 8.2163 - val_R2: 0.3476\n",
            "Epoch 73/100\n",
            "7/7 [==============================] - 0s 5ms/step - loss: 27.3308 - root_mean_squared_error: 5.2279 - R2: 0.6662 - val_loss: 72.7366 - val_root_mean_squared_error: 8.5286 - val_R2: 0.3287\n",
            "Epoch 74/100\n",
            "7/7 [==============================] - 0s 5ms/step - loss: 25.3641 - root_mean_squared_error: 5.0363 - R2: 0.6626 - val_loss: 70.1306 - val_root_mean_squared_error: 8.3744 - val_R2: 0.3460\n",
            "Epoch 75/100\n",
            "7/7 [==============================] - 0s 5ms/step - loss: 25.1992 - root_mean_squared_error: 5.0199 - R2: 0.6920 - val_loss: 78.6000 - val_root_mean_squared_error: 8.8657 - val_R2: 0.2834\n",
            "Epoch 76/100\n",
            "7/7 [==============================] - 0s 5ms/step - loss: 25.8086 - root_mean_squared_error: 5.0802 - R2: 0.7042 - val_loss: 67.9158 - val_root_mean_squared_error: 8.2411 - val_R2: 0.3589\n",
            "Epoch 77/100\n",
            "7/7 [==============================] - 0s 5ms/step - loss: 24.6859 - root_mean_squared_error: 4.9685 - R2: 0.6639 - val_loss: 72.7694 - val_root_mean_squared_error: 8.5305 - val_R2: 0.3303\n",
            "Epoch 78/100\n",
            "7/7 [==============================] - 0s 6ms/step - loss: 24.4540 - root_mean_squared_error: 4.9451 - R2: 0.6900 - val_loss: 69.7274 - val_root_mean_squared_error: 8.3503 - val_R2: 0.3509\n",
            "Epoch 79/100\n",
            "7/7 [==============================] - 0s 5ms/step - loss: 25.0879 - root_mean_squared_error: 5.0088 - R2: 0.6727 - val_loss: 77.9834 - val_root_mean_squared_error: 8.8308 - val_R2: 0.2881\n",
            "Epoch 80/100\n",
            "7/7 [==============================] - 0s 5ms/step - loss: 24.4059 - root_mean_squared_error: 4.9402 - R2: 0.6506 - val_loss: 67.6474 - val_root_mean_squared_error: 8.2248 - val_R2: 0.3094\n",
            "Epoch 81/100\n",
            "7/7 [==============================] - 0s 5ms/step - loss: 30.6760 - root_mean_squared_error: 5.5386 - R2: 0.5733 - val_loss: 67.5878 - val_root_mean_squared_error: 8.2212 - val_R2: 0.3506\n",
            "Epoch 82/100\n",
            "7/7 [==============================] - 0s 6ms/step - loss: 24.7580 - root_mean_squared_error: 4.9757 - R2: 0.6912 - val_loss: 68.7247 - val_root_mean_squared_error: 8.2900 - val_R2: 0.3593\n",
            "Epoch 83/100\n",
            "7/7 [==============================] - 0s 5ms/step - loss: 24.0440 - root_mean_squared_error: 4.9035 - R2: 0.6541 - val_loss: 66.2585 - val_root_mean_squared_error: 8.1399 - val_R2: 0.3440\n",
            "Epoch 84/100\n",
            "7/7 [==============================] - 0s 5ms/step - loss: 24.1879 - root_mean_squared_error: 4.9181 - R2: 0.7031 - val_loss: 69.4109 - val_root_mean_squared_error: 8.3313 - val_R2: 0.3605\n",
            "Epoch 85/100\n",
            "7/7 [==============================] - 0s 5ms/step - loss: 23.3921 - root_mean_squared_error: 4.8365 - R2: 0.6076 - val_loss: 67.9974 - val_root_mean_squared_error: 8.2461 - val_R2: 0.3716\n",
            "Epoch 86/100\n",
            "7/7 [==============================] - 0s 6ms/step - loss: 24.3995 - root_mean_squared_error: 4.9396 - R2: 0.6757 - val_loss: 62.9579 - val_root_mean_squared_error: 7.9346 - val_R2: 0.3803\n",
            "Epoch 87/100\n",
            "7/7 [==============================] - 0s 5ms/step - loss: 24.6243 - root_mean_squared_error: 4.9623 - R2: 0.6878 - val_loss: 71.9107 - val_root_mean_squared_error: 8.4800 - val_R2: 0.3439\n",
            "Epoch 88/100\n",
            "7/7 [==============================] - 0s 5ms/step - loss: 23.0897 - root_mean_squared_error: 4.8052 - R2: 0.7096 - val_loss: 64.7962 - val_root_mean_squared_error: 8.0496 - val_R2: 0.3974\n",
            "Epoch 89/100\n",
            "7/7 [==============================] - 0s 5ms/step - loss: 22.7553 - root_mean_squared_error: 4.7702 - R2: 0.6921 - val_loss: 64.3607 - val_root_mean_squared_error: 8.0225 - val_R2: 0.3985\n",
            "Epoch 90/100\n",
            "7/7 [==============================] - 0s 7ms/step - loss: 22.5828 - root_mean_squared_error: 4.7521 - R2: 0.7114 - val_loss: 67.2878 - val_root_mean_squared_error: 8.2029 - val_R2: 0.3791\n",
            "Epoch 91/100\n",
            "7/7 [==============================] - 0s 6ms/step - loss: 23.8556 - root_mean_squared_error: 4.8842 - R2: 0.7034 - val_loss: 65.1675 - val_root_mean_squared_error: 8.0726 - val_R2: 0.3942\n",
            "Epoch 92/100\n",
            "7/7 [==============================] - 0s 5ms/step - loss: 22.4736 - root_mean_squared_error: 4.7406 - R2: 0.7310 - val_loss: 69.6961 - val_root_mean_squared_error: 8.3484 - val_R2: 0.3611\n",
            "Epoch 93/100\n",
            "7/7 [==============================] - 0s 5ms/step - loss: 22.1580 - root_mean_squared_error: 4.7072 - R2: 0.7198 - val_loss: 67.2284 - val_root_mean_squared_error: 8.1993 - val_R2: 0.3806\n",
            "Epoch 94/100\n",
            "7/7 [==============================] - 0s 6ms/step - loss: 22.4627 - root_mean_squared_error: 4.7395 - R2: 0.7179 - val_loss: 63.4985 - val_root_mean_squared_error: 7.9686 - val_R2: 0.4070\n",
            "Epoch 95/100\n",
            "7/7 [==============================] - 0s 5ms/step - loss: 21.6113 - root_mean_squared_error: 4.6488 - R2: 0.7053 - val_loss: 62.3667 - val_root_mean_squared_error: 7.8973 - val_R2: 0.3677\n",
            "Epoch 96/100\n",
            "7/7 [==============================] - 0s 5ms/step - loss: 26.8710 - root_mean_squared_error: 5.1837 - R2: 0.6438 - val_loss: 65.6395 - val_root_mean_squared_error: 8.1018 - val_R2: 0.3931\n",
            "Epoch 97/100\n",
            "7/7 [==============================] - 0s 5ms/step - loss: 21.7999 - root_mean_squared_error: 4.6690 - R2: 0.7012 - val_loss: 75.7029 - val_root_mean_squared_error: 8.7007 - val_R2: 0.3110\n",
            "Epoch 98/100\n",
            "7/7 [==============================] - 0s 5ms/step - loss: 22.4552 - root_mean_squared_error: 4.7387 - R2: 0.7125 - val_loss: 64.7048 - val_root_mean_squared_error: 8.0439 - val_R2: 0.4012\n",
            "Epoch 99/100\n",
            "7/7 [==============================] - 0s 6ms/step - loss: 22.1399 - root_mean_squared_error: 4.7053 - R2: 0.7061 - val_loss: 67.7154 - val_root_mean_squared_error: 8.2289 - val_R2: 0.3788\n",
            "Epoch 100/100\n",
            "7/7 [==============================] - 0s 5ms/step - loss: 21.7754 - root_mean_squared_error: 4.6664 - R2: 0.6570 - val_loss: 68.1798 - val_root_mean_squared_error: 8.2571 - val_R2: 0.3751\n"
          ]
        }
      ],
      "source": [
        "model_out = models.Sequential()\n",
        "rbf_layer = RBFLayer(units = n_centers,sigmaInit=sigma,initializer=InitCentersKMeans(x_train),input_shape=(x_train.shape[1],))\n",
        "\n",
        "rbf_out_shape = rbf_layer.compute_output_shape((x_train.shape[1],))\n",
        "model_out.add(rbf_layer)\n",
        "\n",
        "# Output Layer\n",
        "model_out.add(layers.Dense(128,activation='relu',input_shape=rbf_out_shape,\n",
        "                            kernel_initializer=initializers.RandomNormal(mean = 0,stddev=0.4)))\n",
        "\n",
        "# Make the linear tranformation layer on the output layer\n",
        "model_out.add(layers.Dense(1,activation='relu',\n",
        "                kernel_initializer= initializers.RandomNormal(mean = 0,stddev=0.4)))\n",
        "model_out.compile(optimizer = tf.keras.optimizers.SGD(learning_rate=0.001),\n",
        "                    loss='mean_squared_error',\n",
        "                    metrics = [tf.keras.metrics.RootMeanSquaredError(), R2])\n",
        "model_out.summary()\n",
        "history_1 = model_out.fit(x_train,y_train,epochs=100,batch_size=48,validation_split=0.2,verbose=1)\n"
      ]
    },
    {
      "cell_type": "code",
      "execution_count": 142,
      "metadata": {
        "colab": {
          "base_uri": "https://localhost:8080/",
          "height": 281
        },
        "id": "sU-xmprFPcZm",
        "outputId": "8b8fb15b-092e-4d53-80c8-ee2f285f5083"
      },
      "outputs": [
        {
          "name": "stdout",
          "output_type": "stream",
          "text": [
            "Model 1\n"
          ]
        },
        {
          "data": {
            "image/png": "[encoded data removed]",
            "text/plain": [
              "<Figure size 432x288 with 1 Axes>"
            ]
          },
          "metadata": {
            "needs_background": "light"
          },
          "output_type": "display_data"
        },
        {
          "data": {
            "image/png": "[encoded data removed]",
            "text/plain": [
              "<Figure size 432x288 with 1 Axes>"
            ]
          },
          "metadata": {
            "needs_background": "light"
          },
          "output_type": "display_data"
        }
      ],
      "source": [
        "\n",
        "print(\"Model 1\")\n",
        "# Plot RMSE\n",
        "plt.figure(1)\n",
        "plt.plot(history_1.history['root_mean_squared_error'],label='train')\n",
        "plt.plot(history_1.history['val_root_mean_squared_error'],label='test')\n",
        "plt.legend()\n",
        "plt.title('RMSE on training and validation sets')\n",
        "plt.show()\n",
        "# Plot loss\n",
        "plt.figure(2)\n",
        "plt.plot(history_1.history['loss'],label='train')\n",
        "plt.plot(history_1.history['val_loss'],label='test')\n",
        "plt.legend()\n",
        "plt.title('Loss on training and validation sets')\n",
        "plt.show()"
      ]
    },
    {
      "cell_type": "markdown",
      "metadata": {
        "id": "2-7sPP3JOGe_"
      },
      "source": [
        "### Reconsideration\n",
        "At this point i realize that keras models are not working well with custom made layers such as the one RBF I made. After research and communication with a professor,\n",
        "I came to an understanding that RBF layer is just a kernel that could be applied to data and the we can instantly proceed adn push that data to the output layer.\n",
        "So because I have no time for debugging im using sklearn to create a custom rbf kernel from pairwise lib and I apply this to a specific number of data inputs in order to have the correct. Last but not least I want to point out that there are implementation of creating rbf Layers that work with keras and I found some but they are not quite effective thats why I made the training epochs 1000"
      ]
    },
    {
      "cell_type": "markdown",
      "metadata": {},
      "source": [
        "### Case 2  Model 2 compute centers and sigma and Number of Kernels = 0.5 Ntrain"
      ]
    },
    {
      "cell_type": "code",
      "execution_count": 134,
      "metadata": {},
      "outputs": [
        {
          "name": "stdout",
          "output_type": "stream",
          "text": [
            "189\n",
            "tf.Tensor(0.68750733, shape=(), dtype=float32)\n"
          ]
        }
      ],
      "source": [
        "from scipy.spatial.distance import pdist\n",
        "# Variance of each kernel\n",
        "from cmath import sqrt\n",
        "# num of kernels in hidden layer = number of inputs = number of nodes of  RBF layer\n",
        "n_centers = int(0.5*x_train.shape[0])\n",
        "print(n_centers)\n",
        "def computeSigma(n_centers):\n",
        "        km = KMeans(n_clusters=n_centers, init='random', verbose=0).fit(x_train)\n",
        "        centers = km.cluster_centers_\n",
        "        dists = pdist(centers, metric='euclidean')\n",
        "        d_max = np.amax(dists)\n",
        "        sigma = d_max / tf.math.sqrt(2*float(centers.shape[0])) \n",
        "        return sigma\n",
        "   \n",
        "sigma = computeSigma(n_centers)\n",
        "print(sigma)"
      ]
    },
    {
      "cell_type": "markdown",
      "metadata": {},
      "source": [
        "### Create Model 2 and train it "
      ]
    },
    {
      "cell_type": "code",
      "execution_count": 135,
      "metadata": {},
      "outputs": [
        {
          "name": "stdout",
          "output_type": "stream",
          "text": [
            "Model: \"sequential_54\"\n",
            "_________________________________________________________________\n",
            " Layer (type)                Output Shape              Param #   \n",
            "=================================================================\n",
            " rbf_layer_50 (RBFLayer)     (None, 189)               2646      \n",
            "                                                                 \n",
            " dense_52 (Dense)            (None, 128)               24320     \n",
            "                                                                 \n",
            " dense_53 (Dense)            (None, 1)                 129       \n",
            "                                                                 \n",
            "=================================================================\n",
            "Total params: 27,095\n",
            "Trainable params: 27,095\n",
            "Non-trainable params: 0\n",
            "_________________________________________________________________\n",
            "Epoch 1/100\n",
            "7/7 [==============================] - 0s 12ms/step - loss: 22.7518 - root_mean_squared_error: 4.7699 - R2: 0.6830 - val_loss: 69.3029 - val_root_mean_squared_error: 8.3248 - val_R2: 0.4251\n",
            "Epoch 2/100\n",
            "7/7 [==============================] - 0s 5ms/step - loss: 22.6272 - root_mean_squared_error: 4.7568 - R2: 0.7014 - val_loss: 70.0927 - val_root_mean_squared_error: 8.3721 - val_R2: 0.4198\n",
            "Epoch 3/100\n",
            "7/7 [==============================] - 0s 5ms/step - loss: 22.4134 - root_mean_squared_error: 4.7343 - R2: 0.6992 - val_loss: 70.3280 - val_root_mean_squared_error: 8.3862 - val_R2: 0.4183\n",
            "Epoch 4/100\n",
            "7/7 [==============================] - 0s 5ms/step - loss: 22.2493 - root_mean_squared_error: 4.7169 - R2: 0.6886 - val_loss: 70.9210 - val_root_mean_squared_error: 8.4215 - val_R2: 0.4138\n",
            "Epoch 5/100\n",
            "7/7 [==============================] - 0s 5ms/step - loss: 22.1086 - root_mean_squared_error: 4.7020 - R2: 0.7060 - val_loss: 69.2952 - val_root_mean_squared_error: 8.3244 - val_R2: 0.4268\n",
            "Epoch 6/100\n",
            "7/7 [==============================] - 0s 5ms/step - loss: 22.0128 - root_mean_squared_error: 4.6918 - R2: 0.7336 - val_loss: 68.8479 - val_root_mean_squared_error: 8.2975 - val_R2: 0.4305\n",
            "Epoch 7/100\n",
            "7/7 [==============================] - 0s 5ms/step - loss: 21.8189 - root_mean_squared_error: 4.6711 - R2: 0.7197 - val_loss: 69.1786 - val_root_mean_squared_error: 8.3174 - val_R2: 0.4284\n",
            "Epoch 8/100\n",
            "7/7 [==============================] - 0s 5ms/step - loss: 21.6944 - root_mean_squared_error: 4.6577 - R2: 0.7310 - val_loss: 68.9774 - val_root_mean_squared_error: 8.3053 - val_R2: 0.4303\n",
            "Epoch 9/100\n",
            "7/7 [==============================] - 0s 5ms/step - loss: 21.5428 - root_mean_squared_error: 4.6414 - R2: 0.7245 - val_loss: 68.4830 - val_root_mean_squared_error: 8.2754 - val_R2: 0.4344\n",
            "Epoch 10/100\n",
            "7/7 [==============================] - 0s 5ms/step - loss: 21.4028 - root_mean_squared_error: 4.6263 - R2: 0.7263 - val_loss: 67.8665 - val_root_mean_squared_error: 8.2381 - val_R2: 0.4394\n",
            "Epoch 11/100\n",
            "7/7 [==============================] - 0s 5ms/step - loss: 21.2438 - root_mean_squared_error: 4.6091 - R2: 0.7166 - val_loss: 67.5841 - val_root_mean_squared_error: 8.2210 - val_R2: 0.4420\n",
            "Epoch 12/100\n",
            "7/7 [==============================] - 0s 5ms/step - loss: 21.1074 - root_mean_squared_error: 4.5943 - R2: 0.7197 - val_loss: 67.5920 - val_root_mean_squared_error: 8.2214 - val_R2: 0.4425\n",
            "Epoch 13/100\n",
            "7/7 [==============================] - 0s 5ms/step - loss: 20.9223 - root_mean_squared_error: 4.5741 - R2: 0.7129 - val_loss: 67.1324 - val_root_mean_squared_error: 8.1934 - val_R2: 0.4461\n",
            "Epoch 14/100\n",
            "7/7 [==============================] - 0s 5ms/step - loss: 20.8106 - root_mean_squared_error: 4.5619 - R2: 0.7345 - val_loss: 67.9269 - val_root_mean_squared_error: 8.2418 - val_R2: 0.4406\n",
            "Epoch 15/100\n",
            "7/7 [==============================] - 0s 5ms/step - loss: 20.5950 - root_mean_squared_error: 4.5382 - R2: 0.7419 - val_loss: 67.7758 - val_root_mean_squared_error: 8.2326 - val_R2: 0.4421\n",
            "Epoch 16/100\n",
            "7/7 [==============================] - 0s 5ms/step - loss: 20.5002 - root_mean_squared_error: 4.5277 - R2: 0.7269 - val_loss: 67.4719 - val_root_mean_squared_error: 8.2141 - val_R2: 0.4447\n",
            "Epoch 17/100\n",
            "7/7 [==============================] - 0s 6ms/step - loss: 20.3847 - root_mean_squared_error: 4.5149 - R2: 0.7284 - val_loss: 67.8276 - val_root_mean_squared_error: 8.2358 - val_R2: 0.4422\n",
            "Epoch 18/100\n",
            "7/7 [==============================] - 0s 6ms/step - loss: 20.2729 - root_mean_squared_error: 4.5025 - R2: 0.7536 - val_loss: 67.6009 - val_root_mean_squared_error: 8.2220 - val_R2: 0.4443\n",
            "Epoch 19/100\n",
            "7/7 [==============================] - 0s 5ms/step - loss: 20.1506 - root_mean_squared_error: 4.4889 - R2: 0.7439 - val_loss: 67.2120 - val_root_mean_squared_error: 8.1983 - val_R2: 0.4477\n",
            "Epoch 20/100\n",
            "7/7 [==============================] - 0s 5ms/step - loss: 20.0728 - root_mean_squared_error: 4.4803 - R2: 0.7353 - val_loss: 67.1714 - val_root_mean_squared_error: 8.1958 - val_R2: 0.4483\n",
            "Epoch 21/100\n",
            "7/7 [==============================] - 0s 5ms/step - loss: 19.8985 - root_mean_squared_error: 4.4608 - R2: 0.7152 - val_loss: 67.1426 - val_root_mean_squared_error: 8.1941 - val_R2: 0.4489\n",
            "Epoch 22/100\n",
            "7/7 [==============================] - 0s 5ms/step - loss: 19.7919 - root_mean_squared_error: 4.4488 - R2: 0.7652 - val_loss: 66.4762 - val_root_mean_squared_error: 8.1533 - val_R2: 0.4543\n",
            "Epoch 23/100\n",
            "7/7 [==============================] - 0s 5ms/step - loss: 19.7322 - root_mean_squared_error: 4.4421 - R2: 0.7720 - val_loss: 66.7815 - val_root_mean_squared_error: 8.1720 - val_R2: 0.4523\n",
            "Epoch 24/100\n",
            "7/7 [==============================] - 0s 5ms/step - loss: 19.5120 - root_mean_squared_error: 4.4172 - R2: 0.7208 - val_loss: 66.1042 - val_root_mean_squared_error: 8.1305 - val_R2: 0.4579\n",
            "Epoch 25/100\n",
            "7/7 [==============================] - 0s 5ms/step - loss: 19.4070 - root_mean_squared_error: 4.4053 - R2: 0.7511 - val_loss: 66.0564 - val_root_mean_squared_error: 8.1275 - val_R2: 0.4587\n",
            "Epoch 26/100\n",
            "7/7 [==============================] - 0s 5ms/step - loss: 19.2833 - root_mean_squared_error: 4.3913 - R2: 0.7228 - val_loss: 66.5179 - val_root_mean_squared_error: 8.1558 - val_R2: 0.4555\n",
            "Epoch 27/100\n",
            "7/7 [==============================] - 0s 6ms/step - loss: 19.2103 - root_mean_squared_error: 4.3830 - R2: 0.7561 - val_loss: 65.0241 - val_root_mean_squared_error: 8.0638 - val_R2: 0.4671\n",
            "Epoch 28/100\n",
            "7/7 [==============================] - 0s 5ms/step - loss: 19.0880 - root_mean_squared_error: 4.3690 - R2: 0.7635 - val_loss: 65.8762 - val_root_mean_squared_error: 8.1164 - val_R2: 0.4612\n",
            "Epoch 29/100\n",
            "7/7 [==============================] - 0s 5ms/step - loss: 18.9524 - root_mean_squared_error: 4.3534 - R2: 0.7679 - val_loss: 65.6614 - val_root_mean_squared_error: 8.1032 - val_R2: 0.4633\n",
            "Epoch 30/100\n",
            "7/7 [==============================] - 0s 6ms/step - loss: 18.8804 - root_mean_squared_error: 4.3452 - R2: 0.7475 - val_loss: 65.6835 - val_root_mean_squared_error: 8.1045 - val_R2: 0.4635\n",
            "Epoch 31/100\n",
            "7/7 [==============================] - 0s 5ms/step - loss: 18.7382 - root_mean_squared_error: 4.3288 - R2: 0.7615 - val_loss: 65.4091 - val_root_mean_squared_error: 8.0876 - val_R2: 0.4660\n",
            "Epoch 32/100\n",
            "7/7 [==============================] - 0s 5ms/step - loss: 18.6659 - root_mean_squared_error: 4.3204 - R2: 0.7576 - val_loss: 65.6059 - val_root_mean_squared_error: 8.0997 - val_R2: 0.4648\n",
            "Epoch 33/100\n",
            "7/7 [==============================] - 0s 5ms/step - loss: 18.5280 - root_mean_squared_error: 4.3044 - R2: 0.7589 - val_loss: 65.2142 - val_root_mean_squared_error: 8.0755 - val_R2: 0.4682\n",
            "Epoch 34/100\n",
            "7/7 [==============================] - 0s 5ms/step - loss: 18.4466 - root_mean_squared_error: 4.2949 - R2: 0.7616 - val_loss: 65.7385 - val_root_mean_squared_error: 8.1079 - val_R2: 0.4644\n",
            "Epoch 35/100\n",
            "7/7 [==============================] - 0s 5ms/step - loss: 18.3710 - root_mean_squared_error: 4.2861 - R2: 0.7734 - val_loss: 65.9283 - val_root_mean_squared_error: 8.1196 - val_R2: 0.4631\n",
            "Epoch 36/100\n",
            "7/7 [==============================] - 0s 5ms/step - loss: 18.2849 - root_mean_squared_error: 4.2761 - R2: 0.7542 - val_loss: 65.5884 - val_root_mean_squared_error: 8.0987 - val_R2: 0.4661\n",
            "Epoch 37/100\n",
            "7/7 [==============================] - 0s 5ms/step - loss: 18.2149 - root_mean_squared_error: 4.2679 - R2: 0.7784 - val_loss: 65.6737 - val_root_mean_squared_error: 8.1039 - val_R2: 0.4657\n",
            "Epoch 38/100\n",
            "7/7 [==============================] - 0s 6ms/step - loss: 18.0699 - root_mean_squared_error: 4.2509 - R2: 0.7471 - val_loss: 64.7254 - val_root_mean_squared_error: 8.0452 - val_R2: 0.4734\n",
            "Epoch 39/100\n",
            "7/7 [==============================] - 0s 6ms/step - loss: 17.9655 - root_mean_squared_error: 4.2386 - R2: 0.7648 - val_loss: 63.7444 - val_root_mean_squared_error: 7.9840 - val_R2: 0.4811\n",
            "Epoch 40/100\n",
            "7/7 [==============================] - 0s 6ms/step - loss: 17.8668 - root_mean_squared_error: 4.2269 - R2: 0.7506 - val_loss: 64.4731 - val_root_mean_squared_error: 8.0295 - val_R2: 0.4762\n",
            "Epoch 41/100\n",
            "7/7 [==============================] - 0s 6ms/step - loss: 17.7158 - root_mean_squared_error: 4.2090 - R2: 0.7696 - val_loss: 64.4389 - val_root_mean_squared_error: 8.0274 - val_R2: 0.4768\n",
            "Epoch 42/100\n",
            "7/7 [==============================] - 0s 6ms/step - loss: 17.6330 - root_mean_squared_error: 4.1992 - R2: 0.7632 - val_loss: 64.4249 - val_root_mean_squared_error: 8.0265 - val_R2: 0.4779\n",
            "Epoch 43/100\n",
            "7/7 [==============================] - 0s 5ms/step - loss: 17.5201 - root_mean_squared_error: 4.1857 - R2: 0.7124 - val_loss: 64.6457 - val_root_mean_squared_error: 8.0403 - val_R2: 0.4766\n",
            "Epoch 44/100\n",
            "7/7 [==============================] - 0s 6ms/step - loss: 17.4552 - root_mean_squared_error: 4.1779 - R2: 0.7820 - val_loss: 64.2352 - val_root_mean_squared_error: 8.0147 - val_R2: 0.4802\n",
            "Epoch 45/100\n",
            "7/7 [==============================] - 0s 6ms/step - loss: 17.3872 - root_mean_squared_error: 4.1698 - R2: 0.7970 - val_loss: 63.6573 - val_root_mean_squared_error: 7.9786 - val_R2: 0.4850\n",
            "Epoch 46/100\n",
            "7/7 [==============================] - 0s 6ms/step - loss: 17.2457 - root_mean_squared_error: 4.1528 - R2: 0.7787 - val_loss: 63.9873 - val_root_mean_squared_error: 7.9992 - val_R2: 0.4828\n",
            "Epoch 47/100\n",
            "7/7 [==============================] - 0s 5ms/step - loss: 17.1721 - root_mean_squared_error: 4.1439 - R2: 0.7646 - val_loss: 63.6605 - val_root_mean_squared_error: 7.9788 - val_R2: 0.4857\n",
            "Epoch 48/100\n",
            "7/7 [==============================] - 0s 5ms/step - loss: 17.1341 - root_mean_squared_error: 4.1393 - R2: 0.7799 - val_loss: 63.1255 - val_root_mean_squared_error: 7.9452 - val_R2: 0.4902\n",
            "Epoch 49/100\n",
            "7/7 [==============================] - 0s 5ms/step - loss: 17.0274 - root_mean_squared_error: 4.1264 - R2: 0.7817 - val_loss: 63.3139 - val_root_mean_squared_error: 7.9570 - val_R2: 0.4893\n",
            "Epoch 50/100\n",
            "7/7 [==============================] - 0s 6ms/step - loss: 16.9382 - root_mean_squared_error: 4.1156 - R2: 0.7809 - val_loss: 63.3928 - val_root_mean_squared_error: 7.9620 - val_R2: 0.4890\n",
            "Epoch 51/100\n",
            "7/7 [==============================] - 0s 5ms/step - loss: 16.8622 - root_mean_squared_error: 4.1064 - R2: 0.7899 - val_loss: 63.0081 - val_root_mean_squared_error: 7.9378 - val_R2: 0.4924\n",
            "Epoch 52/100\n",
            "7/7 [==============================] - 0s 5ms/step - loss: 16.8001 - root_mean_squared_error: 4.0988 - R2: 0.7586 - val_loss: 62.4136 - val_root_mean_squared_error: 7.9002 - val_R2: 0.4972\n",
            "Epoch 53/100\n",
            "7/7 [==============================] - 0s 5ms/step - loss: 16.7764 - root_mean_squared_error: 4.0959 - R2: 0.7794 - val_loss: 62.9983 - val_root_mean_squared_error: 7.9371 - val_R2: 0.4930\n",
            "Epoch 54/100\n",
            "7/7 [==============================] - 0s 6ms/step - loss: 16.6240 - root_mean_squared_error: 4.0772 - R2: 0.7986 - val_loss: 62.7687 - val_root_mean_squared_error: 7.9227 - val_R2: 0.4952\n",
            "Epoch 55/100\n",
            "7/7 [==============================] - 0s 6ms/step - loss: 16.6061 - root_mean_squared_error: 4.0751 - R2: 0.8015 - val_loss: 62.5872 - val_root_mean_squared_error: 7.9112 - val_R2: 0.4969\n",
            "Epoch 56/100\n",
            "7/7 [==============================] - 0s 5ms/step - loss: 16.4872 - root_mean_squared_error: 4.0604 - R2: 0.7963 - val_loss: 62.5913 - val_root_mean_squared_error: 7.9115 - val_R2: 0.4973\n",
            "Epoch 57/100\n",
            "7/7 [==============================] - 0s 5ms/step - loss: 16.4243 - root_mean_squared_error: 4.0527 - R2: 0.8128 - val_loss: 62.4243 - val_root_mean_squared_error: 7.9009 - val_R2: 0.4990\n",
            "Epoch 58/100\n",
            "7/7 [==============================] - 0s 5ms/step - loss: 16.3391 - root_mean_squared_error: 4.0422 - R2: 0.7540 - val_loss: 61.8880 - val_root_mean_squared_error: 7.8669 - val_R2: 0.5035\n",
            "Epoch 59/100\n",
            "7/7 [==============================] - 0s 5ms/step - loss: 16.2497 - root_mean_squared_error: 4.0311 - R2: 0.7917 - val_loss: 61.8727 - val_root_mean_squared_error: 7.8659 - val_R2: 0.5041\n",
            "Epoch 60/100\n",
            "7/7 [==============================] - 0s 5ms/step - loss: 16.1965 - root_mean_squared_error: 4.0245 - R2: 0.7848 - val_loss: 61.8292 - val_root_mean_squared_error: 7.8632 - val_R2: 0.5048\n",
            "Epoch 61/100\n",
            "7/7 [==============================] - 0s 5ms/step - loss: 16.1279 - root_mean_squared_error: 4.0160 - R2: 0.8043 - val_loss: 62.4341 - val_root_mean_squared_error: 7.9015 - val_R2: 0.5005\n",
            "Epoch 62/100\n",
            "7/7 [==============================] - 0s 5ms/step - loss: 16.0574 - root_mean_squared_error: 4.0072 - R2: 0.8026 - val_loss: 61.9001 - val_root_mean_squared_error: 7.8677 - val_R2: 0.5051\n",
            "Epoch 63/100\n",
            "7/7 [==============================] - 0s 5ms/step - loss: 15.9982 - root_mean_squared_error: 3.9998 - R2: 0.8021 - val_loss: 62.1599 - val_root_mean_squared_error: 7.8842 - val_R2: 0.5033\n",
            "Epoch 64/100\n",
            "7/7 [==============================] - 0s 5ms/step - loss: 15.9355 - root_mean_squared_error: 3.9919 - R2: 0.8008 - val_loss: 62.0282 - val_root_mean_squared_error: 7.8758 - val_R2: 0.5047\n",
            "Epoch 65/100\n",
            "7/7 [==============================] - 0s 5ms/step - loss: 15.8301 - root_mean_squared_error: 3.9787 - R2: 0.7569 - val_loss: 60.9315 - val_root_mean_squared_error: 7.8059 - val_R2: 0.5135\n",
            "Epoch 66/100\n",
            "7/7 [==============================] - 0s 5ms/step - loss: 15.7940 - root_mean_squared_error: 3.9742 - R2: 0.7944 - val_loss: 61.3463 - val_root_mean_squared_error: 7.8324 - val_R2: 0.5107\n",
            "Epoch 67/100\n",
            "7/7 [==============================] - 0s 5ms/step - loss: 15.7159 - root_mean_squared_error: 3.9643 - R2: 0.7991 - val_loss: 61.4310 - val_root_mean_squared_error: 7.8378 - val_R2: 0.5104\n",
            "Epoch 68/100\n",
            "7/7 [==============================] - 0s 5ms/step - loss: 15.6355 - root_mean_squared_error: 3.9542 - R2: 0.7150 - val_loss: 60.8012 - val_root_mean_squared_error: 7.7975 - val_R2: 0.5155\n",
            "Epoch 69/100\n",
            "7/7 [==============================] - 0s 6ms/step - loss: 15.5557 - root_mean_squared_error: 3.9441 - R2: 0.7876 - val_loss: 60.1159 - val_root_mean_squared_error: 7.7534 - val_R2: 0.5216\n",
            "Epoch 70/100\n",
            "7/7 [==============================] - 0s 5ms/step - loss: 15.5258 - root_mean_squared_error: 3.9403 - R2: 0.7992 - val_loss: 60.4046 - val_root_mean_squared_error: 7.7720 - val_R2: 0.5201\n",
            "Epoch 71/100\n",
            "7/7 [==============================] - 0s 5ms/step - loss: 15.4545 - root_mean_squared_error: 3.9312 - R2: 0.8034 - val_loss: 60.4007 - val_root_mean_squared_error: 7.7718 - val_R2: 0.5205\n",
            "Epoch 72/100\n",
            "7/7 [==============================] - 0s 5ms/step - loss: 15.3402 - root_mean_squared_error: 3.9167 - R2: 0.8258 - val_loss: 60.7569 - val_root_mean_squared_error: 7.7947 - val_R2: 0.5182\n",
            "Epoch 73/100\n",
            "7/7 [==============================] - 0s 5ms/step - loss: 15.2878 - root_mean_squared_error: 3.9100 - R2: 0.7974 - val_loss: 60.6959 - val_root_mean_squared_error: 7.7908 - val_R2: 0.5191\n",
            "Epoch 74/100\n",
            "7/7 [==============================] - 0s 5ms/step - loss: 15.2095 - root_mean_squared_error: 3.8999 - R2: 0.8153 - val_loss: 60.0290 - val_root_mean_squared_error: 7.7478 - val_R2: 0.5247\n",
            "Epoch 75/100\n",
            "7/7 [==============================] - 0s 5ms/step - loss: 15.1759 - root_mean_squared_error: 3.8956 - R2: 0.8050 - val_loss: 60.4184 - val_root_mean_squared_error: 7.7729 - val_R2: 0.5221\n",
            "Epoch 76/100\n",
            "7/7 [==============================] - 0s 5ms/step - loss: 15.0811 - root_mean_squared_error: 3.8834 - R2: 0.8001 - val_loss: 59.9616 - val_root_mean_squared_error: 7.7435 - val_R2: 0.5261\n",
            "Epoch 77/100\n",
            "7/7 [==============================] - 0s 5ms/step - loss: 15.0263 - root_mean_squared_error: 3.8764 - R2: 0.8085 - val_loss: 59.9551 - val_root_mean_squared_error: 7.7431 - val_R2: 0.5265\n",
            "Epoch 78/100\n",
            "7/7 [==============================] - 0s 5ms/step - loss: 14.9514 - root_mean_squared_error: 3.8667 - R2: 0.7836 - val_loss: 60.1884 - val_root_mean_squared_error: 7.7581 - val_R2: 0.5257\n",
            "Epoch 79/100\n",
            "7/7 [==============================] - 0s 5ms/step - loss: 14.9062 - root_mean_squared_error: 3.8609 - R2: 0.7883 - val_loss: 60.0322 - val_root_mean_squared_error: 7.7480 - val_R2: 0.5273\n",
            "Epoch 80/100\n",
            "7/7 [==============================] - 0s 5ms/step - loss: 14.8356 - root_mean_squared_error: 3.8517 - R2: 0.8136 - val_loss: 59.6339 - val_root_mean_squared_error: 7.7223 - val_R2: 0.5307\n",
            "Epoch 81/100\n",
            "7/7 [==============================] - 0s 5ms/step - loss: 14.7859 - root_mean_squared_error: 3.8452 - R2: 0.8110 - val_loss: 60.2195 - val_root_mean_squared_error: 7.7601 - val_R2: 0.5265\n",
            "Epoch 82/100\n",
            "7/7 [==============================] - 0s 5ms/step - loss: 14.7614 - root_mean_squared_error: 3.8421 - R2: 0.8113 - val_loss: 60.4320 - val_root_mean_squared_error: 7.7738 - val_R2: 0.5251\n",
            "Epoch 83/100\n",
            "7/7 [==============================] - 0s 6ms/step - loss: 14.7150 - root_mean_squared_error: 3.8360 - R2: 0.8210 - val_loss: 59.6998 - val_root_mean_squared_error: 7.7266 - val_R2: 0.5314\n",
            "Epoch 84/100\n",
            "7/7 [==============================] - 0s 5ms/step - loss: 14.6339 - root_mean_squared_error: 3.8254 - R2: 0.8062 - val_loss: 58.9200 - val_root_mean_squared_error: 7.6759 - val_R2: 0.5383\n",
            "Epoch 85/100\n",
            "7/7 [==============================] - 0s 5ms/step - loss: 14.5321 - root_mean_squared_error: 3.8121 - R2: 0.8148 - val_loss: 58.6841 - val_root_mean_squared_error: 7.6606 - val_R2: 0.5404\n",
            "Epoch 86/100\n",
            "7/7 [==============================] - 0s 5ms/step - loss: 14.5072 - root_mean_squared_error: 3.8088 - R2: 0.8059 - val_loss: 58.7843 - val_root_mean_squared_error: 7.6671 - val_R2: 0.5400\n",
            "Epoch 87/100\n",
            "7/7 [==============================] - 0s 5ms/step - loss: 14.4200 - root_mean_squared_error: 3.7974 - R2: 0.8136 - val_loss: 58.9969 - val_root_mean_squared_error: 7.6809 - val_R2: 0.5388\n",
            "Epoch 88/100\n",
            "7/7 [==============================] - 0s 5ms/step - loss: 14.3602 - root_mean_squared_error: 3.7895 - R2: 0.8243 - val_loss: 58.9121 - val_root_mean_squared_error: 7.6754 - val_R2: 0.5399\n",
            "Epoch 89/100\n",
            "7/7 [==============================] - 0s 6ms/step - loss: 14.3364 - root_mean_squared_error: 3.7863 - R2: 0.7852 - val_loss: 58.4358 - val_root_mean_squared_error: 7.6443 - val_R2: 0.5437\n",
            "Epoch 90/100\n",
            "7/7 [==============================] - 0s 6ms/step - loss: 14.2587 - root_mean_squared_error: 3.7761 - R2: 0.8195 - val_loss: 57.9865 - val_root_mean_squared_error: 7.6149 - val_R2: 0.5473\n",
            "Epoch 91/100\n",
            "7/7 [==============================] - 0s 7ms/step - loss: 14.2287 - root_mean_squared_error: 3.7721 - R2: 0.8255 - val_loss: 58.4062 - val_root_mean_squared_error: 7.6424 - val_R2: 0.5448\n",
            "Epoch 92/100\n",
            "7/7 [==============================] - 0s 5ms/step - loss: 14.1745 - root_mean_squared_error: 3.7649 - R2: 0.8133 - val_loss: 59.0486 - val_root_mean_squared_error: 7.6843 - val_R2: 0.5401\n",
            "Epoch 93/100\n",
            "7/7 [==============================] - 0s 5ms/step - loss: 14.1118 - root_mean_squared_error: 3.7566 - R2: 0.8195 - val_loss: 58.8314 - val_root_mean_squared_error: 7.6702 - val_R2: 0.5421\n",
            "Epoch 94/100\n",
            "7/7 [==============================] - 0s 5ms/step - loss: 14.0572 - root_mean_squared_error: 3.7493 - R2: 0.8010 - val_loss: 59.2029 - val_root_mean_squared_error: 7.6943 - val_R2: 0.5395\n",
            "Epoch 95/100\n",
            "7/7 [==============================] - 0s 5ms/step - loss: 14.0170 - root_mean_squared_error: 3.7439 - R2: 0.7869 - val_loss: 58.6499 - val_root_mean_squared_error: 7.6583 - val_R2: 0.5443\n",
            "Epoch 96/100\n",
            "7/7 [==============================] - 0s 5ms/step - loss: 13.9320 - root_mean_squared_error: 3.7326 - R2: 0.8145 - val_loss: 58.3412 - val_root_mean_squared_error: 7.6381 - val_R2: 0.5470\n",
            "Epoch 97/100\n",
            "7/7 [==============================] - 0s 5ms/step - loss: 13.9038 - root_mean_squared_error: 3.7288 - R2: 0.8418 - val_loss: 57.9739 - val_root_mean_squared_error: 7.6141 - val_R2: 0.5502\n",
            "Epoch 98/100\n",
            "7/7 [==============================] - 0s 5ms/step - loss: 13.8163 - root_mean_squared_error: 3.7170 - R2: 0.8335 - val_loss: 57.9886 - val_root_mean_squared_error: 7.6150 - val_R2: 0.5505\n",
            "Epoch 99/100\n",
            "7/7 [==============================] - 0s 5ms/step - loss: 13.7812 - root_mean_squared_error: 3.7123 - R2: 0.8356 - val_loss: 57.7877 - val_root_mean_squared_error: 7.6018 - val_R2: 0.5524\n",
            "Epoch 100/100\n",
            "7/7 [==============================] - 0s 5ms/step - loss: 13.7074 - root_mean_squared_error: 3.7023 - R2: 0.8200 - val_loss: 57.7405 - val_root_mean_squared_error: 7.5987 - val_R2: 0.5529\n"
          ]
        }
      ],
      "source": [
        "model_2 = models.Sequential()\n",
        "rbf_layer = RBFLayer(units = n_centers,sigmaInit=sigma,initializer=InitCentersKMeans(x_train),input_shape=(x_train.shape[1],))\n",
        "\n",
        "rbf_out_shape = rbf_layer.compute_output_shape((x_train.shape[1],))\n",
        "model_2.add(rbf_layer)\n",
        "\n",
        "# Output Layer\n",
        "model_2.add(layers.Dense(128,activation='relu',input_shape=rbf_out_shape,\n",
        "                            kernel_initializer=initializers.RandomNormal(mean = 0,stddev=0.4)))\n",
        "\n",
        "# Make the linear tranformation layer on the output layer\n",
        "model_2.add(layers.Dense(1,activation='relu',\n",
        "                kernel_initializer= initializers.RandomNormal(mean = 0,stddev=0.4)))\n",
        "model_2.compile(optimizer = tf.keras.optimizers.SGD(learning_rate=0.001),\n",
        "                    loss = tf.keras.losses.MeanSquaredError(),\n",
        "                    metrics = [tf.keras.metrics.RootMeanSquaredError(), R2])\n",
        "model_2.summary()\n",
        "history_2 = model_out.fit(x_train,y_train,epochs=100,batch_size=48,validation_split=0.2,verbose=1)"
      ]
    },
    {
      "cell_type": "markdown",
      "metadata": {},
      "source": [
        "### Print Results"
      ]
    },
    {
      "cell_type": "code",
      "execution_count": 136,
      "metadata": {},
      "outputs": [
        {
          "name": "stdout",
          "output_type": "stream",
          "text": [
            "Model 2\n"
          ]
        },
        {
          "data": {
            "image/png": "[encoded data removed]",
            "text/plain": [
              "<Figure size 432x288 with 1 Axes>"
            ]
          },
          "metadata": {
            "needs_background": "light"
          },
          "output_type": "display_data"
        },
        {
          "data": {
            "image/png": "[encoded data removed]",
            "text/plain": [
              "<Figure size 432x288 with 1 Axes>"
            ]
          },
          "metadata": {
            "needs_background": "light"
          },
          "output_type": "display_data"
        }
      ],
      "source": [
        "print(\"Model 2\")\n",
        "# Plot RMSE\n",
        "plt.figure(3)\n",
        "plt.plot(history_2.history['root_mean_squared_error'],label='train')\n",
        "plt.plot(history_2.history['val_root_mean_squared_error'],label='test')\n",
        "plt.legend()\n",
        "plt.title('RMSE on training and validation sets')\n",
        "plt.show()\n",
        "# Plot loss\n",
        "plt.figure(4)\n",
        "plt.plot(history_2.history['loss'],label='train')\n",
        "plt.plot(history_2.history['val_loss'],label='test')\n",
        "plt.legend()\n",
        "plt.title('Loss on training and validation sets')\n",
        "plt.show()"
      ]
    },
    {
      "cell_type": "code",
      "execution_count": null,
      "metadata": {
        "id": "1wUF4TJnOGe_"
      },
      "outputs": [],
      "source": [
        "from sklearn.metrics.pairwise import rbf_kernel\n",
        "\n",
        "# apply kmeans to find initial centers\n",
        "km = KMeans(n_clusters=n_centers, init='random', verbose=0).fit(x_train)\n",
        "centers = km.cluster_centers_\n",
        "# typecast 1/2sigma to float vector in order to be applied to kernel\n",
        "x_rbf_out = rbf_kernel(x_train,Y =centers, gamma = np.float32( 1/(2*sigma)) )\n"
      ]
    },
    {
      "cell_type": "markdown",
      "metadata": {
        "id": "Qxzmvv17OGfA"
      },
      "source": [
        "### Create output layer model builder function"
      ]
    },
    {
      "cell_type": "code",
      "execution_count": null,
      "metadata": {
        "id": "Pg4aR92tOGfB"
      },
      "outputs": [],
      "source": [
        "def output_layer_builder():\n",
        "    model_out = models.Sequential()\n",
        "    # RBF layer kernel applied to data as transformation\n",
        "    # Output Layer\n",
        "    model_out.add(layers.Dense(128, activation='relu', input_shape=(x_rbf_out.shape[1],),\n",
        "                         kernel_initializer=initializers.RandomNormal(mean = 0,stddev=0.4)))\n",
        "    \n",
        "    # Make the linear tranformation layer on the output layer\n",
        "    model_out.add(layers.Dense(1,activation='relu',\n",
        "                  kernel_initializer= initializers.RandomNormal(mean = 0,stddev=0.4)))\n",
        "    model_out.compile(optimizer = tf.keras.optimizers.SGD(learning_rate=0.001),\n",
        "                    loss = tf.keras.losses.MeanSquaredError(),\n",
        "                    metrics = [tf.keras.metrics.RootMeanSquaredError(), R2])"
      ]
    },
    {
      "cell_type": "markdown",
      "metadata": {
        "id": "HkNSo-9XOGfB"
      },
      "source": [
        "Train Model 1"
      ]
    },
    {
      "cell_type": "code",
      "execution_count": null,
      "metadata": {
        "id": "JuUb9zp-OGfB",
        "outputId": "eb2932e2-bb61-4af1-adfe-229e72102f65"
      },
      "outputs": [
        {
          "ename": "AttributeError",
          "evalue": "'NoneType' object has no attribute 'fit'",
          "output_type": "error",
          "traceback": [
            "\u001b[1;31m---------------------------------------------------------------------------\u001b[0m",
            "\u001b[1;31mAttributeError\u001b[0m                            Traceback (most recent call last)",
            "\u001b[1;32mc:\\Users\\harry\\Documents\\Computational_Intelligence_Thmmy\\Assignment\\RBF_regression\\src\\RBF_regression_notebook.ipynb Cell 21\u001b[0m in \u001b[0;36m<cell line: 3>\u001b[1;34m()\u001b[0m\n\u001b[0;32m      <a href='vscode-notebook-cell:/c%3A/Users/harry/Documents/Computational_Intelligence_Thmmy/Assignment/RBF_regression/src/RBF_regression_notebook.ipynb#X40sZmlsZQ%3D%3D?line=1'>2</a>\u001b[0m model_1 \u001b[39m=\u001b[39m output_layer_builder()\n\u001b[1;32m----> <a href='vscode-notebook-cell:/c%3A/Users/harry/Documents/Computational_Intelligence_Thmmy/Assignment/RBF_regression/src/RBF_regression_notebook.ipynb#X40sZmlsZQ%3D%3D?line=2'>3</a>\u001b[0m history_1 \u001b[39m=\u001b[39m model_1\u001b[39m.\u001b[39;49mfit(x_rbf_out,y_train,epochs\u001b[39m=\u001b[39m\u001b[39m100\u001b[39m,batch_size\u001b[39m=\u001b[39m\u001b[39m48\u001b[39m,validation_split\u001b[39m=\u001b[39m\u001b[39m0.2\u001b[39m,verbose\u001b[39m=\u001b[39m\u001b[39m1\u001b[39m)\n\u001b[0;32m      <a href='vscode-notebook-cell:/c%3A/Users/harry/Documents/Computational_Intelligence_Thmmy/Assignment/RBF_regression/src/RBF_regression_notebook.ipynb#X40sZmlsZQ%3D%3D?line=4'>5</a>\u001b[0m \u001b[39m# Plot RSQ\u001b[39;00m\n\u001b[0;32m      <a href='vscode-notebook-cell:/c%3A/Users/harry/Documents/Computational_Intelligence_Thmmy/Assignment/RBF_regression/src/RBF_regression_notebook.ipynb#X40sZmlsZQ%3D%3D?line=5'>6</a>\u001b[0m plt\u001b[39m.\u001b[39mfigure(\u001b[39m1\u001b[39m)\n",
            "\u001b[1;31mAttributeError\u001b[0m: 'NoneType' object has no attribute 'fit'"
          ]
        }
      ],
      "source": [
        "\n",
        "model_1 = output_layer_builder()\n",
        "history_1 = model_1.fit(x_rbf_out,y_train,epochs=100,batch_size=48,validation_split=0.2,verbose=1)\n",
        "\n",
        "# Plot RSQ\n",
        "plt.figure(1)\n",
        "plt.plot(history.history['RSquare'])\n",
        "\n",
        "\n",
        "\n",
        "\n",
        "\n",
        "# Plot RMSE\n",
        "plt.figure(1)\n",
        "plt.plot(history.history['root_mean_squared_error'],label='train')\n",
        "plt.plot(history.history['val_root_mean_squared_error'],label='test')\n",
        "plt.legend()\n",
        "plt.title('RMSE on training and validation sets')\n",
        "plt.show()"
      ]
    }
  ],
  "metadata": {
    "colab": {
      "provenance": []
    },
    "kernelspec": {
      "display_name": "Python 3.9.12 ('base')",
      "language": "python",
      "name": "python3"
    },
    "language_info": {
      "codemirror_mode": {
        "name": "ipython",
        "version": 3
      },
      "file_extension": ".py",
      "mimetype": "text/x-python",
      "name": "python",
      "nbconvert_exporter": "python",
      "pygments_lexer": "ipython3",
      "version": "3.9.12"
    },
    "orig_nbformat": 4,
    "vscode": {
      "interpreter": {
        "hash": "40fcdd4a0e98f93efe88366db2abec70317af01b338acd99e2ac692059567cf3"
      }
    }
  },
  "nbformat": 4,
  "nbformat_minor": 0
}
