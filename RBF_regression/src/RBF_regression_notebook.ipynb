{
 "cells": [
  {
   "cell_type": "markdown",
   "metadata": {},
   "source": [
    "# RBF Regression on Boston hosting Dataset\n",
    "### Charis Filis\n",
    "### Academic-id : 9449 "
   ]
  },
  {
   "cell_type": "markdown",
   "metadata": {},
   "source": [
    "Add needed dependencies"
   ]
  },
  {
   "cell_type": "code",
   "execution_count": 1,
   "metadata": {},
   "outputs": [],
   "source": [
    "import tensorflow as tf\n",
    "from tensorflow.keras import layers,Model\n",
    "from tensorflow.keras import initializers\n",
    "from tensorflow.keras import backend as K\n",
    "\n",
    "from tensorflow.keras.datasets import boston_housing\n",
    "# Images, plots, display, and visualization\n",
    "import matplotlib.pyplot as plt\n",
    "import pandas as pd\n",
    "import seaborn as sns\n",
    "\n",
    "from sklearn.metrics import pairwise\n",
    "from sklearn.cluster import KMeans\n",
    "import numpy as np"
   ]
  },
  {
   "cell_type": "code",
   "execution_count": null,
   "metadata": {},
   "outputs": [],
   "source": [
    "(x_train, y_train),(x_test, y_test) = boston_housing.load_data()\n",
    "\n",
    "print(\"Number of original training examples:\", len(x_train))\n",
    "print(\"Number of original test examples:\", len(x_test))\n",
    "print(\"Training data shape:\",x_train.shape)\n",
    "print(\"Training y train shape\", y_train.shape)\n",
    "print(\"Testing data shape:\",x_test.shape)\n",
    "\n",
    "print(x_train[1], y_train[1])\n",
    "# get per-feature statistics (mean,standard deviation ) from the training set in order to make normalization\n"
   ]
  },
  {
   "cell_type": "code",
   "execution_count": 1,
   "metadata": {},
   "outputs": [
    {
     "ename": "SyntaxError",
     "evalue": "incomplete input (574062755.py, line 19)",
     "output_type": "error",
     "traceback": [
      "\u001b[1;36m  Cell \u001b[1;32mIn [1], line 19\u001b[1;36m\u001b[0m\n\u001b[1;33m    \u001b[0m\n\u001b[1;37m    ^\u001b[0m\n\u001b[1;31mSyntaxError\u001b[0m\u001b[1;31m:\u001b[0m incomplete input\n"
     ]
    }
   ],
   "source": [
    "# custom Kmeans algorithm that returns cluster centers and standart deviation of each cluster\n",
    "\"\"\"\n",
    "1D-Input Clustering\n",
    "A := numpy array MX1 - Data\n",
    "k := integer - Number of Clusters\n",
    "\"\"\"\n",
    "def kmeans_custom(A,k):\n",
    "    \n",
    "    # get Number of Features\n",
    "    numFeatures = A.shape[1]\n",
    "    # random initialization of centroids\n",
    "    clusters_c = np.random.choice(np.squeeze(A),size=k)\n",
    "    # kmeans is a greedy algorithm so we need a converge flag to stop him from running infinately\n",
    "    converge_flag = False\n",
    "    # initialize standart deviation buffer\n",
    "    stds_c = np.zeros(k)\n",
    "    \n",
    "    while not converge_flag:\n",
    "        \"\"\"\n",
    "            Compute distances of each cluster center to each point \n",
    "            of the dataset\n",
    "        \"\"\"\n",
    "        "
   ]
  },
  {
   "cell_type": "code",
   "execution_count": null,
   "metadata": {},
   "outputs": [],
   "source": []
  }
 ],
 "metadata": {
  "kernelspec": {
   "display_name": "Python 3.9.12 ('base')",
   "language": "python",
   "name": "python3"
  },
  "language_info": {
   "codemirror_mode": {
    "name": "ipython",
    "version": 3
   },
   "file_extension": ".py",
   "mimetype": "text/x-python",
   "name": "python",
   "nbconvert_exporter": "python",
   "pygments_lexer": "ipython3",
   "version": "3.9.12"
  },
  "orig_nbformat": 4,
  "vscode": {
   "interpreter": {
    "hash": "40fcdd4a0e98f93efe88366db2abec70317af01b338acd99e2ac692059567cf3"
   }
  }
 },
 "nbformat": 4,
 "nbformat_minor": 2
}
